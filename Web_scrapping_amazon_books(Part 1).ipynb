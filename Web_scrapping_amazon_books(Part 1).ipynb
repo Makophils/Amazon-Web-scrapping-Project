{
 "cells": [
  {
   "cell_type": "code",
   "execution_count": 1,
   "id": "9c40d002",
   "metadata": {},
   "outputs": [],
   "source": [
    "# Importing relevant packages\n",
    "import pandas as pd\n",
    "import numpy as np\n",
    "import requests\n",
    "from selenium import webdriver\n",
    "from bs4 import BeautifulSoup\n",
    "from urllib.request import urlopen\n",
    "from time import sleep\n",
    "\n",
    "# to ignore warnings\n",
    "import warnings\n",
    "warnings.filterwarnings('ignore')\n",
    "\n",
    "#displaying all the columns and rows\n",
    "pd.set_option('display.max_rows',500)\n",
    "pd.set_option('display.max_columns',500)\n",
    "pd.set_option('display.width',1000)\n",
    "\n"
   ]
  },
  {
   "cell_type": "code",
   "execution_count": 2,
   "id": "d514ecb2",
   "metadata": {},
   "outputs": [],
   "source": [
    "#to get the url and the second page of every year starting from 2009-2021\n",
    "urls =[]\n",
    "years = [str(i) for i in range(2009,2022)] #years between 2009-2022\n",
    "for year in years:\n",
    "    urls.append (f\"https://www.amazon.com/gp/bestsellers/{year}/books\")\n",
    "    urls.append(f\"https://www.amazon.com/gp/bestsellers/{year}/books/ref=zg_bsar_pg_2/ref=zg_bsar_pg_2?ie=UTF8&pg=2\")\n",
    "    "
   ]
  },
  {
   "cell_type": "code",
   "execution_count": 3,
   "id": "ed5f6852",
   "metadata": {},
   "outputs": [],
   "source": [
    "#define a function to get the details of every book each year\n",
    "def get_dir(book,year): \n",
    "    '''to get the details of each book for each year''' \n",
    "    \n",
    "    import numpy as np\n",
    "    '''to get the name of price'''\n",
    "\n",
    "    try:\n",
    "        price = book.find('span',class_=\"_cDEzb_p13n-sc-price_3mJ9Z\").text[1:]\n",
    "    except Exception as e:\n",
    "        price = np.nan\n",
    "    try:\n",
    "        ranks = book.find('span', class_='zg-bdg-text').text[1:]\n",
    "    except Exception as e:\n",
    "        ranks = np.nan\n",
    "    try:\n",
    "        title = book.find('div',class_=\"_cDEzb_p13n-sc-css-line-clamp-1_1Fn1y\").text\n",
    "    except Exception as e:\n",
    "        title = np.nan\n",
    "    try:\n",
    "        ratings= book.find('span',class_=\"a-icon-alt\").text[:3] \n",
    "    except Exception as e:\n",
    "        ratings = np.nan\n",
    "    try:\n",
    "        no_of_reviews  = book.find('span',class_=\"a-size-small\").text\n",
    "    except Exception as e:\n",
    "        no_of_reviews = np.nan\n",
    "    try:\n",
    "        author = book.find('a',class_=\"a-size-small a-link-child\").text\n",
    "    except Exception as e:\n",
    "        author = np.nan\n",
    "    try:\n",
    "        cover_type = book.find('span',class_=\"a-size-small a-color-secondary a-text-normal\").text\n",
    "    except Exception as e:\n",
    "        cover_type = np.nan\n",
    "    year = year\n",
    "    return [price,ranks,title,no_of_reviews,ratings,author,cover_type, year]"
   ]
  },
  {
   "cell_type": "code",
   "execution_count": 4,
   "id": "e6aa996a",
   "metadata": {},
   "outputs": [],
   "source": [
    "#To get all the years\n",
    "year = [(str(i),str(i)) for i in range(2009,2022)] #create list that contains the a set of each year\n",
    "years = [j for i in year for j in i] #get a list from the above line\n"
   ]
  },
  {
   "cell_type": "code",
   "execution_count": 5,
   "id": "2034a839",
   "metadata": {},
   "outputs": [],
   "source": [
    "Every_year = [] \n",
    "from time import sleep \n",
    "for url in urls:  \n",
    "    \n",
    "    webspage = url \n",
    "    \n",
    "    driver = webdriver.Chrome(\"C:\\Users\\hp\\Desktop\\Drivers\\chromedriver.exe\") #to load the selenium after downloading locally \n",
    "    \n",
    "    driver.get(website)        # using selenium to get the webpage\n",
    "    \n",
    "    sleep(30)                  #to make sure webpage is loaded before moving to next page\n",
    "    \n",
    "    the_soup = BeautifulSoup(driver.page_source, 'html.parser')           #passing into beautiful soap to get the web content\n",
    "    \n",
    "    books = the_soup.find_all(id = 'gridItemRoot')                 #get every books on the page.\n",
    "    \n",
    "    Every_year.append(books) #add the books to the the list above\n",
    "    \n",
    "    \n",
    "    \n",
    "    driver.quit()                      #to discontinue chrome windows after getting the web page\n",
    "    \n",
    "#"
   ]
  },
  {
   "cell_type": "code",
   "execution_count": 6,
   "id": "e7134167",
   "metadata": {},
   "outputs": [
    {
     "data": {
      "text/plain": [
       "(26, 26)"
      ]
     },
     "execution_count": 6,
     "metadata": {},
     "output_type": "execute_result"
    }
   ],
   "source": [
    "len(all_year), len(years)  #to verify you got all the years in both pages"
   ]
  },
  {
   "cell_type": "code",
   "execution_count": 7,
   "id": "246c8ce2",
   "metadata": {},
   "outputs": [],
   "source": [
    "# to get index and years\n",
    "year_index = (list(enumerate(years)))\n",
    "dc = year_index"
   ]
  },
  {
   "cell_type": "code",
   "execution_count": 8,
   "id": "2fc023f4",
   "metadata": {},
   "outputs": [],
   "source": [
    "data = [] #create an empty list for all the books\n",
    "for i in dc:   #looping through the year index\n",
    "    for books in all_year[i[0]]:             #loop through the books for all the years\n",
    "        for book in books:                   #loop through the books for each page\n",
    "            data.append(get_dir(book,i[1]))  # get the details of each book and appending to data(line 1)\n",
    "            \n"
   ]
  },
  {
   "cell_type": "code",
   "execution_count": 9,
   "id": "181ffc1b",
   "metadata": {},
   "outputs": [
    {
     "name": "stdout",
     "output_type": "stream",
     "text": [
      "File written successfully\n"
     ]
    }
   ],
   "source": [
    "\n",
    "# open file\n",
    "with open('Amazon.txt', 'w+') as f:\n",
    "     \n",
    "    # write elements of list\n",
    "    for items in data: \n",
    "        try:\n",
    "            f.write('%s\\n' %items)\n",
    "        except Exception as e:\n",
    "            f.write('%s\\n' 'nothing')\n",
    "     \n",
    "    print(\"File written successfully\")\n",
    " \n",
    " \n",
    "# close the file\n",
    "f.close()"
   ]
  },
  {
   "cell_type": "code",
   "execution_count": 10,
   "id": "d803bb18",
   "metadata": {},
   "outputs": [],
   "source": [
    "# putting best selling books in a usable data frame\n",
    "best_selling_books= pd.DataFrame(data, columns = [\n",
    "                         'price',\n",
    "                         'ranks',\n",
    "                         'title',\n",
    "                         'no_of_reviews',\n",
    "                         'ratings',\n",
    "                         'author',\n",
    "                       'cover_type',\n",
    "                          'year'])\n"
   ]
  },
  {
   "cell_type": "code",
   "execution_count": 11,
   "id": "e5cb7fc9",
   "metadata": {},
   "outputs": [],
   "source": [
    "#saving to csv to be loaded on a separate python file for analysis\n",
    "best_selling_books.to_csv('best_selling_books_2009-2021.csv')   "
   ]
  },
  {
   "cell_type": "code",
   "execution_count": 12,
   "id": "3a1ed394",
   "metadata": {
    "scrolled": true
   },
   "outputs": [
    {
     "data": {
      "text/html": [
       "<div>\n",
       "<style scoped>\n",
       "    .dataframe tbody tr th:only-of-type {\n",
       "        vertical-align: middle;\n",
       "    }\n",
       "\n",
       "    .dataframe tbody tr th {\n",
       "        vertical-align: top;\n",
       "    }\n",
       "\n",
       "    .dataframe thead th {\n",
       "        text-align: right;\n",
       "    }\n",
       "</style>\n",
       "<table border=\"1\" class=\"dataframe\">\n",
       "  <thead>\n",
       "    <tr style=\"text-align: right;\">\n",
       "      <th></th>\n",
       "      <th>price</th>\n",
       "      <th>ranks</th>\n",
       "      <th>title</th>\n",
       "      <th>no_of_reviews</th>\n",
       "      <th>ratings</th>\n",
       "      <th>author</th>\n",
       "      <th>cover_type</th>\n",
       "      <th>year</th>\n",
       "    </tr>\n",
       "  </thead>\n",
       "  <tbody>\n",
       "    <tr>\n",
       "      <th>0</th>\n",
       "      <td>12.81</td>\n",
       "      <td>1</td>\n",
       "      <td>The Lost Symbol</td>\n",
       "      <td>16,129</td>\n",
       "      <td>4.4</td>\n",
       "      <td>Dan Brown</td>\n",
       "      <td>Hardcover</td>\n",
       "      <td>2009</td>\n",
       "    </tr>\n",
       "    <tr>\n",
       "      <th>1</th>\n",
       "      <td>10.43</td>\n",
       "      <td>2</td>\n",
       "      <td>The Shack: Where Tragedy Confronts Eternity</td>\n",
       "      <td>23,398</td>\n",
       "      <td>4.7</td>\n",
       "      <td>William P. Young</td>\n",
       "      <td>Paperback</td>\n",
       "      <td>2009</td>\n",
       "    </tr>\n",
       "    <tr>\n",
       "      <th>2</th>\n",
       "      <td>9.93</td>\n",
       "      <td>3</td>\n",
       "      <td>Liberty and Tyranny: A Conservative Manifesto</td>\n",
       "      <td>5,037</td>\n",
       "      <td>4.8</td>\n",
       "      <td>Mark R. Levin</td>\n",
       "      <td>Hardcover</td>\n",
       "      <td>2009</td>\n",
       "    </tr>\n",
       "    <tr>\n",
       "      <th>3</th>\n",
       "      <td>14.30</td>\n",
       "      <td>4</td>\n",
       "      <td>Breaking Dawn (The Twilight Saga, Book 4)</td>\n",
       "      <td>16,923</td>\n",
       "      <td>4.7</td>\n",
       "      <td>Stephenie Meyer</td>\n",
       "      <td>Hardcover</td>\n",
       "      <td>2009</td>\n",
       "    </tr>\n",
       "    <tr>\n",
       "      <th>4</th>\n",
       "      <td>9.99</td>\n",
       "      <td>5</td>\n",
       "      <td>Going Rogue: An American Life</td>\n",
       "      <td>1,572</td>\n",
       "      <td>4.6</td>\n",
       "      <td>Sarah Palin</td>\n",
       "      <td>Hardcover</td>\n",
       "      <td>2009</td>\n",
       "    </tr>\n",
       "    <tr>\n",
       "      <th>...</th>\n",
       "      <td>...</td>\n",
       "      <td>...</td>\n",
       "      <td>...</td>\n",
       "      <td>...</td>\n",
       "      <td>...</td>\n",
       "      <td>...</td>\n",
       "      <td>...</td>\n",
       "      <td>...</td>\n",
       "    </tr>\n",
       "    <tr>\n",
       "      <th>1286</th>\n",
       "      <td>16.69</td>\n",
       "      <td>96</td>\n",
       "      <td>Will</td>\n",
       "      <td>Will Smith</td>\n",
       "      <td>4.8</td>\n",
       "      <td>NaN</td>\n",
       "      <td>Hardcover</td>\n",
       "      <td>2021</td>\n",
       "    </tr>\n",
       "    <tr>\n",
       "      <th>1287</th>\n",
       "      <td>7.49</td>\n",
       "      <td>97</td>\n",
       "      <td>Think and Grow Rich: The Landmark Bestseller N...</td>\n",
       "      <td>83,367</td>\n",
       "      <td>4.7</td>\n",
       "      <td>Napoleon Hill</td>\n",
       "      <td>Paperback</td>\n",
       "      <td>2021</td>\n",
       "    </tr>\n",
       "    <tr>\n",
       "      <th>1288</th>\n",
       "      <td>8.95</td>\n",
       "      <td>98</td>\n",
       "      <td>Dragons Love Tacos</td>\n",
       "      <td>15,771</td>\n",
       "      <td>4.8</td>\n",
       "      <td>Adam Rubin</td>\n",
       "      <td>Hardcover</td>\n",
       "      <td>2021</td>\n",
       "    </tr>\n",
       "    <tr>\n",
       "      <th>1289</th>\n",
       "      <td>7.49</td>\n",
       "      <td>99</td>\n",
       "      <td>The Truth About COVID-19: Exposing The Great R...</td>\n",
       "      <td>Doctor Joseph Mercola</td>\n",
       "      <td>4.8</td>\n",
       "      <td>NaN</td>\n",
       "      <td>Hardcover</td>\n",
       "      <td>2021</td>\n",
       "    </tr>\n",
       "    <tr>\n",
       "      <th>1290</th>\n",
       "      <td>13.29</td>\n",
       "      <td>100</td>\n",
       "      <td>First Little Readers Parent Pack: Guided Readi...</td>\n",
       "      <td>27,350</td>\n",
       "      <td>4.7</td>\n",
       "      <td>Deborah Schecter</td>\n",
       "      <td>Paperback</td>\n",
       "      <td>2021</td>\n",
       "    </tr>\n",
       "  </tbody>\n",
       "</table>\n",
       "<p>1291 rows × 8 columns</p>\n",
       "</div>"
      ],
      "text/plain": [
       "      price ranks                                              title          no_of_reviews ratings            author cover_type  year\n",
       "0     12.81     1                                    The Lost Symbol                 16,129     4.4         Dan Brown  Hardcover  2009\n",
       "1     10.43     2        The Shack: Where Tragedy Confronts Eternity                 23,398     4.7  William P. Young  Paperback  2009\n",
       "2      9.93     3      Liberty and Tyranny: A Conservative Manifesto                  5,037     4.8     Mark R. Levin  Hardcover  2009\n",
       "3     14.30     4          Breaking Dawn (The Twilight Saga, Book 4)                 16,923     4.7   Stephenie Meyer  Hardcover  2009\n",
       "4      9.99     5                      Going Rogue: An American Life                  1,572     4.6       Sarah Palin  Hardcover  2009\n",
       "...     ...   ...                                                ...                    ...     ...               ...        ...   ...\n",
       "1286  16.69    96                                               Will             Will Smith     4.8               NaN  Hardcover  2021\n",
       "1287   7.49    97  Think and Grow Rich: The Landmark Bestseller N...                 83,367     4.7     Napoleon Hill  Paperback  2021\n",
       "1288   8.95    98                                 Dragons Love Tacos                 15,771     4.8        Adam Rubin  Hardcover  2021\n",
       "1289   7.49    99  The Truth About COVID-19: Exposing The Great R...  Doctor Joseph Mercola     4.8               NaN  Hardcover  2021\n",
       "1290  13.29   100  First Little Readers Parent Pack: Guided Readi...                 27,350     4.7  Deborah Schecter  Paperback  2021\n",
       "\n",
       "[1291 rows x 8 columns]"
      ]
     },
     "execution_count": 12,
     "metadata": {},
     "output_type": "execute_result"
    }
   ],
   "source": [
    "#displaying best selling books\n",
    "best_selling_books"
   ]
  }
 ],
 "metadata": {
  "kernelspec": {
   "display_name": "Python 3 (ipykernel)",
   "language": "python",
   "name": "python3"
  },
  "language_info": {
   "codemirror_mode": {
    "name": "ipython",
    "version": 3
   },
   "file_extension": ".py",
   "mimetype": "text/x-python",
   "name": "python",
   "nbconvert_exporter": "python",
   "pygments_lexer": "ipython3",
   "version": "3.11.5"
  },
  "toc": {
   "base_numbering": 1,
   "nav_menu": {},
   "number_sections": true,
   "sideBar": true,
   "skip_h1_title": false,
   "title_cell": "Table of Contents",
   "title_sidebar": "Contents",
   "toc_cell": false,
   "toc_position": {},
   "toc_section_display": true,
   "toc_window_display": false
  },
  "varInspector": {
   "cols": {
    "lenName": 16,
    "lenType": 16,
    "lenVar": 40
   },
   "kernels_config": {
    "python": {
     "delete_cmd_postfix": "",
     "delete_cmd_prefix": "del ",
     "library": "var_list.py",
     "varRefreshCmd": "print(var_dic_list())"
    },
    "r": {
     "delete_cmd_postfix": ") ",
     "delete_cmd_prefix": "rm(",
     "library": "var_list.r",
     "varRefreshCmd": "cat(var_dic_list()) "
    }
   },
   "types_to_exclude": [
    "module",
    "function",
    "builtin_function_or_method",
    "instance",
    "_Feature"
   ],
   "window_display": false
  }
 },
 "nbformat": 4,
 "nbformat_minor": 5
}
